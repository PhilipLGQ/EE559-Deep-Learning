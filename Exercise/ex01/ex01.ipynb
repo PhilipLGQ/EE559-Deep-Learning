{
 "cells": [
  {
   "cell_type": "code",
   "execution_count": 51,
   "id": "92104367-5f17-46e1-8639-7074e6ca1fb8",
   "metadata": {},
   "outputs": [],
   "source": [
    "# import relevant packages\n",
    "import torch\n",
    "import numpy as np\n",
    "import time"
   ]
  },
  {
   "cell_type": "markdown",
   "id": "362f3364-3fca-4c7b-9ac9-fa2313bc1fed",
   "metadata": {},
   "source": [
    "## 1. Multiple views of a storage"
   ]
  },
  {
   "cell_type": "code",
   "execution_count": 15,
   "id": "7a8f0dcf-b23d-45ee-ab3b-927ce0e486b5",
   "metadata": {},
   "outputs": [],
   "source": [
    "data = torch.full((13, 13), 1)\n",
    "idx_2 = [1, 6, 11]\n",
    "idx_3 = [3, 4, 8, 9]\n",
    "\n",
    "data[idx_2, :] = 2\n",
    "data[:, idx_2] = 2\n",
    "\n",
    "data[3:5, idx_3] = 3\n",
    "data[8:10, idx_3] = 3\n",
    "data[idx_3, 3:5] = 3\n",
    "data[idx_3, 8:10] = 3"
   ]
  },
  {
   "cell_type": "code",
   "execution_count": 16,
   "id": "9774fa32-f5b7-4f18-ac21-289f29d9757d",
   "metadata": {},
   "outputs": [
    {
     "name": "stdout",
     "output_type": "stream",
     "text": [
      "tensor([[1, 2, 1, 1, 1, 1, 2, 1, 1, 1, 1, 2, 1],\n",
      "        [2, 2, 2, 2, 2, 2, 2, 2, 2, 2, 2, 2, 2],\n",
      "        [1, 2, 1, 1, 1, 1, 2, 1, 1, 1, 1, 2, 1],\n",
      "        [1, 2, 1, 3, 3, 1, 2, 1, 3, 3, 1, 2, 1],\n",
      "        [1, 2, 1, 3, 3, 1, 2, 1, 3, 3, 1, 2, 1],\n",
      "        [1, 2, 1, 1, 1, 1, 2, 1, 1, 1, 1, 2, 1],\n",
      "        [2, 2, 2, 2, 2, 2, 2, 2, 2, 2, 2, 2, 2],\n",
      "        [1, 2, 1, 1, 1, 1, 2, 1, 1, 1, 1, 2, 1],\n",
      "        [1, 2, 1, 3, 3, 1, 2, 1, 3, 3, 1, 2, 1],\n",
      "        [1, 2, 1, 3, 3, 1, 2, 1, 3, 3, 1, 2, 1],\n",
      "        [1, 2, 1, 1, 1, 1, 2, 1, 1, 1, 1, 2, 1],\n",
      "        [2, 2, 2, 2, 2, 2, 2, 2, 2, 2, 2, 2, 2],\n",
      "        [1, 2, 1, 1, 1, 1, 2, 1, 1, 1, 1, 2, 1]])\n"
     ]
    }
   ],
   "source": [
    "print(data)"
   ]
  },
  {
   "cell_type": "markdown",
   "id": "b19e2095-a141-49b8-a29f-ce54a1ea71e6",
   "metadata": {},
   "source": [
    "## 2. Eigendecomposition"
   ]
  },
  {
   "cell_type": "code",
   "execution_count": 46,
   "id": "a65e8511-807b-4a70-95b3-fe11257e4193",
   "metadata": {},
   "outputs": [],
   "source": [
    "M = torch.empty((20, 20)).normal_()\n",
    "diag = torch.diag(torch.arange(1, 21)).float()\n",
    "M_inv = torch.inverse(M)"
   ]
  },
  {
   "cell_type": "code",
   "execution_count": 47,
   "id": "a44912a1-3322-43e2-a591-de5da56f0e4d",
   "metadata": {},
   "outputs": [],
   "source": [
    "target_matrix = torch.mm(M_inv, torch.mm(diag, M))\n",
    "e, v = torch.eig(target_matrix)"
   ]
  },
  {
   "cell_type": "markdown",
   "id": "f05754ac-f93f-4099-8bde-401c3c206bef",
   "metadata": {},
   "source": [
    "## 3. Flops per second"
   ]
  },
  {
   "cell_type": "code",
   "execution_count": 53,
   "id": "9a1da88f-a2ac-40bb-ad0c-f4a5a767f55f",
   "metadata": {},
   "outputs": [],
   "source": [
    "M1 = torch.empty((5000, 5000)).normal_()\n",
    "M2 = torch.empty((5000, 5000)).normal_()"
   ]
  },
  {
   "cell_type": "code",
   "execution_count": 56,
   "id": "a051b2e9-1985-4d87-b415-1536578d61b6",
   "metadata": {},
   "outputs": [
    {
     "name": "stdout",
     "output_type": "stream",
     "text": [
      "Flops per second: 85791695125\n"
     ]
    }
   ],
   "source": [
    "start = time.perf_counter()\n",
    "torch.mm(M1, M2)\n",
    "end = time.perf_counter()\n",
    "\n",
    "# Time complexity for matrix multiplication = O(n^3)\n",
    "print(\"Flops per second: {}\".format(round(5000**3*(end - start))))"
   ]
  },
  {
   "cell_type": "markdown",
   "id": "ac5fb854-3dc7-45b3-a130-c31c2ecdaf08",
   "metadata": {},
   "source": [
    "## 4. Playing with strides"
   ]
  },
  {
   "cell_type": "code",
   "execution_count": 74,
   "id": "06820520-d183-49af-ba1c-2eafba528367",
   "metadata": {},
   "outputs": [],
   "source": [
    "def mul_row(m):\n",
    "    start = time.perf_counter()\n",
    "    row = m.size(dim=0)\n",
    "    for idx in range(row):\n",
    "        temp = m.narrow(0, idx, 1)\n",
    "        temp *= (idx + 1)\n",
    "    end = time.perf_counter()\n",
    "    return (end - start)"
   ]
  },
  {
   "cell_type": "code",
   "execution_count": 96,
   "id": "a0f87ca9-7891-458e-9277-ca9768b2530f",
   "metadata": {},
   "outputs": [],
   "source": [
    "def mul_row_fast(m):\n",
    "    start = time.perf_counter()\n",
    "    row = m.size(dim=1)\n",
    "    col = m.size(dim=0)\n",
    "    \n",
    "    m_out = torch.mul(torch.arange(1, row+1).expand(col, row).t(), m[0][0])\n",
    "    end = time.perf_counter()\n",
    "    return (end - start)"
   ]
  },
  {
   "cell_type": "code",
   "execution_count": 97,
   "id": "ad499c0b-4eb8-4c3a-8f2f-f36c27751d15",
   "metadata": {},
   "outputs": [],
   "source": [
    "m = torch.full((1000, 400), 2.0)"
   ]
  },
  {
   "cell_type": "code",
   "execution_count": 98,
   "id": "184f2797-3d7e-4976-8df5-8ce8c580fc10",
   "metadata": {},
   "outputs": [
    {
     "name": "stdout",
     "output_type": "stream",
     "text": [
      "Time used by mul_row: 0.006425214000046253\n",
      "Time used by mul_row_fast: 0.0005277789969113655\n"
     ]
    }
   ],
   "source": [
    "print(\"Time used by mul_row: {}\".format(mul_row(m)))\n",
    "print(\"Time used by mul_row_fast: {}\".format(mul_row_fast(m)))"
   ]
  },
  {
   "cell_type": "code",
   "execution_count": null,
   "id": "90264de0-6701-44a6-a4ca-6c7f0df96e00",
   "metadata": {},
   "outputs": [],
   "source": []
  }
 ],
 "metadata": {
  "kernelspec": {
   "display_name": "Python 3",
   "language": "python",
   "name": "python3"
  },
  "language_info": {
   "codemirror_mode": {
    "name": "ipython",
    "version": 3
   },
   "file_extension": ".py",
   "mimetype": "text/x-python",
   "name": "python",
   "nbconvert_exporter": "python",
   "pygments_lexer": "ipython3",
   "version": "3.7.12"
  },
  "toc-showmarkdowntxt": true
 },
 "nbformat": 4,
 "nbformat_minor": 5
}
