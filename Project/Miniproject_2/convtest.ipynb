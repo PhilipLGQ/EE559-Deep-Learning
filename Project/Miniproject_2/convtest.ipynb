{
 "cells": [
  {
   "cell_type": "code",
   "execution_count": 66,
   "id": "ebea1cf9-7d1d-4659-9f7a-cbd23a215886",
   "metadata": {},
   "outputs": [
    {
     "name": "stdout",
     "output_type": "stream",
     "text": [
      "torch.Size([4, 3, 2, 3])\n",
      "torch.Size([4])\n",
      "torch.Size([4, 18])\n",
      "torch.Size([4, 18, 930])\n",
      "torch.Size([4, 4, 930])\n",
      "torch.Size([1, 4, 1])\n",
      "torch.Size([4, 4, 930])\n"
     ]
    }
   ],
   "source": [
    "import torch\n",
    "import torch.nn as nn\n",
    "import math\n",
    "\n",
    "in_channel = 3\n",
    "out_channel = 4\n",
    "kernel_size = (2, 3)\n",
    "\n",
    "conv = nn.Conv2d(in_channel, out_channel, kernel_size)\n",
    "x = torch.randn((4, in_channel, 32, 32), dtype=torch.float32, requires_grad=True)\n",
    "\n",
    "# Output of PyTorch convolution\n",
    "expected = conv(x)\n",
    "\n",
    "\n",
    "# Output of convolution as a matrix product\n",
    "unfolded = nn.functional.unfold(x, kernel_size=kernel_size)\n",
    "wxb = conv.weight.view(out_channel, -1) @ unfolded + conv.bias.view(1, -1, 1)\n",
    "actual = wxb.view(4, out_channel, x.shape[2] - kernel_size[0] + 1, x.shape[3] - kernel_size[1] + 1)\n",
    "\n",
    "# print(torch.testing.assert_allclose(actual, expected))\n",
    "\n",
    "print(conv.weight.size())\n",
    "print(conv.bias.size())\n",
    "print(conv.weight.view(out_channel, -1).size())\n",
    "print(unfolded.size())\n",
    "print((conv.weight.view(out_channel, -1) @ unfolded).size())\n",
    "print(conv.bias.view(1, -1, 1).size())\n",
    "print(wxb.size())\n",
    "# print(conv.weight)\n",
    "# print(conv.weight.view(out_channel, -1))"
   ]
  },
  {
   "cell_type": "code",
   "execution_count": 67,
   "id": "7270607f-7a31-424f-a0b4-cc83789383f8",
   "metadata": {},
   "outputs": [],
   "source": [
    "from others.modules import *"
   ]
  },
  {
   "cell_type": "code",
   "execution_count": 68,
   "id": "31efb344-5a91-4a3d-a9fb-007ecb0fb45e",
   "metadata": {},
   "outputs": [
    {
     "data": {
      "text/plain": [
       "torch.Size([4, 4, 31, 30])"
      ]
     },
     "execution_count": 68,
     "metadata": {},
     "output_type": "execute_result"
    }
   ],
   "source": [
    "actual.size()"
   ]
  },
  {
   "cell_type": "code",
   "execution_count": 76,
   "id": "cf255b2c-a50f-426c-ba86-c7cbebe8b443",
   "metadata": {},
   "outputs": [],
   "source": [
    "conv = Conv2d(3, 4, (2, 3))"
   ]
  },
  {
   "cell_type": "code",
   "execution_count": 70,
   "id": "5397470e-ecc6-4a18-9307-48e560ecf86e",
   "metadata": {},
   "outputs": [],
   "source": [
    "test1 = conv.forward(x)\n",
    "\n",
    "unfolded = nn.functional.unfold(x, kernel_size=kernel_size)\n",
    "wxb = conv.w.view(out_channel, -1) @ unfolded + conv.b.view(1, -1, 1)\n",
    "actual = wxb.view(4, out_channel, x.shape[2] - kernel_size[0] + 1, x.shape[3] - kernel_size[1] + 1)\n",
    "\n",
    "torch.testing.assert_allclose(test1, actual)"
   ]
  },
  {
   "cell_type": "code",
   "execution_count": 77,
   "id": "6419301d-9caf-439c-88f4-d951f999e37a",
   "metadata": {},
   "outputs": [
    {
     "ename": "AttributeError",
     "evalue": "'Conv2d' object has no attribute 'input'",
     "output_type": "error",
     "traceback": [
      "\u001b[0;31m---------------------------------------------------------------------------\u001b[0m",
      "\u001b[0;31mAttributeError\u001b[0m                            Traceback (most recent call last)",
      "\u001b[0;32m<ipython-input-77-233ec4503347>\u001b[0m in \u001b[0;36m<module>\u001b[0;34m\u001b[0m\n\u001b[0;32m----> 1\u001b[0;31m \u001b[0mtest2\u001b[0m \u001b[0;34m=\u001b[0m \u001b[0mconv\u001b[0m\u001b[0;34m.\u001b[0m\u001b[0mbackward\u001b[0m\u001b[0;34m(\u001b[0m\u001b[0mtorch\u001b[0m\u001b[0;34m.\u001b[0m\u001b[0mrandn_like\u001b[0m\u001b[0;34m(\u001b[0m\u001b[0mactual\u001b[0m\u001b[0;34m)\u001b[0m\u001b[0;34m)\u001b[0m\u001b[0;34m\u001b[0m\u001b[0;34m\u001b[0m\u001b[0m\n\u001b[0m",
      "\u001b[0;32m~/Documents/EPFL Y1S2/EE559_git/Project/Miniproject_2/others/modules.py\u001b[0m in \u001b[0;36mbackward\u001b[0;34m(self, grad_output)\u001b[0m\n\u001b[1;32m     74\u001b[0m         \u001b[0mprint\u001b[0m\u001b[0;34m(\u001b[0m\u001b[0mgrad_reshape\u001b[0m\u001b[0;34m.\u001b[0m\u001b[0msize\u001b[0m\u001b[0;34m(\u001b[0m\u001b[0;34m)\u001b[0m\u001b[0;34m)\u001b[0m\u001b[0;34m\u001b[0m\u001b[0;34m\u001b[0m\u001b[0m\n\u001b[1;32m     75\u001b[0m \u001b[0;34m\u001b[0m\u001b[0m\n\u001b[0;32m---> 76\u001b[0;31m     \u001b[0;32mdef\u001b[0m \u001b[0mparam\u001b[0m\u001b[0;34m(\u001b[0m\u001b[0mself\u001b[0m\u001b[0;34m)\u001b[0m\u001b[0;34m:\u001b[0m\u001b[0;34m\u001b[0m\u001b[0;34m\u001b[0m\u001b[0m\n\u001b[0m\u001b[1;32m     77\u001b[0m         \u001b[0;32mreturn\u001b[0m \u001b[0;34m[\u001b[0m\u001b[0;34m(\u001b[0m\u001b[0mself\u001b[0m\u001b[0;34m.\u001b[0m\u001b[0mw\u001b[0m\u001b[0;34m,\u001b[0m \u001b[0mself\u001b[0m\u001b[0;34m.\u001b[0m\u001b[0mdw\u001b[0m\u001b[0;34m)\u001b[0m\u001b[0;34m,\u001b[0m \u001b[0;34m(\u001b[0m\u001b[0mself\u001b[0m\u001b[0;34m.\u001b[0m\u001b[0mb\u001b[0m\u001b[0;34m,\u001b[0m \u001b[0mself\u001b[0m\u001b[0;34m.\u001b[0m\u001b[0mdb\u001b[0m\u001b[0;34m)\u001b[0m\u001b[0;34m]\u001b[0m\u001b[0;34m\u001b[0m\u001b[0;34m\u001b[0m\u001b[0m\n\u001b[1;32m     78\u001b[0m \u001b[0;34m\u001b[0m\u001b[0m\n",
      "\u001b[0;31mAttributeError\u001b[0m: 'Conv2d' object has no attribute 'input'"
     ]
    }
   ],
   "source": [
    "test2 = conv.backward(torch.randn_like(actual))"
   ]
  },
  {
   "cell_type": "code",
   "execution_count": 52,
   "id": "0c05016f-b6b6-4e6a-8c65-6e2508fa27de",
   "metadata": {},
   "outputs": [
    {
     "data": {
      "text/plain": [
       "torch.Size([4, 1860])"
      ]
     },
     "execution_count": 52,
     "metadata": {},
     "output_type": "execute_result"
    }
   ],
   "source": [
    "torch.randn_like(actual).permute(1, 2, 3, 0).reshape(4, -1).size()"
   ]
  },
  {
   "cell_type": "code",
   "execution_count": 58,
   "id": "2e7dfcc7-0fb4-4da6-9502-c1353d27a224",
   "metadata": {},
   "outputs": [
    {
     "data": {
      "text/plain": [
       "4"
      ]
     },
     "execution_count": 58,
     "metadata": {},
     "output_type": "execute_result"
    }
   ],
   "source": [
    "conv.out_channels"
   ]
  },
  {
   "cell_type": "code",
   "execution_count": null,
   "id": "a476a929-3bb2-4262-96c9-387ce1e771d8",
   "metadata": {},
   "outputs": [],
   "source": []
  }
 ],
 "metadata": {
  "kernelspec": {
   "display_name": "Python 3",
   "language": "python",
   "name": "python3"
  },
  "language_info": {
   "codemirror_mode": {
    "name": "ipython",
    "version": 3
   },
   "file_extension": ".py",
   "mimetype": "text/x-python",
   "name": "python",
   "nbconvert_exporter": "python",
   "pygments_lexer": "ipython3",
   "version": "3.7.12"
  }
 },
 "nbformat": 4,
 "nbformat_minor": 5
}
